{
  "nbformat": 4,
  "nbformat_minor": 0,
  "metadata": {
    "colab": {
      "provenance": []
    },
    "kernelspec": {
      "name": "python3",
      "display_name": "Python 3"
    },
    "language_info": {
      "name": "python"
    }
  },
  "cells": [
    {
      "cell_type": "markdown",
      "source": [
        "<center><strong><h1>Universidade Federal de Alagoas</h1></strong></center>\n",
        "<center><strong><h1>IC - Instituto de Computação</h1></strong></center>\n",
        "<center><strong><h2>Sistemas de Controle II - 2022.1</h2></strong></center>\n",
        "\n",
        "---\n",
        "\n",
        "**Professor**: Ícaro Araújo\n",
        "\n",
        "---\n",
        "\n",
        "<center><strong><h2>Exemplo didático III</h2></strong></center>"
      ],
      "metadata": {
        "id": "x2cP9WXjk1qZ"
      }
    },
    {
      "cell_type": "markdown",
      "source": [
        "A entrada é a força aplicada em fa e a saída é z."
      ],
      "metadata": {
        "id": "bmysAFXk3Ivy"
      }
    },
    {
      "cell_type": "markdown",
      "source": [
        "![massamola.drawio.png](data:image/png;base64,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)"
      ],
      "metadata": {
        "id": "STkKRT9T2qfy"
      }
    },
    {
      "cell_type": "markdown",
      "source": [
        "A partir da equação da força (f = m.a) de newton, podemos descrever o sistema acima, onde as forças aplicadas no bloco são iguais a aceleração vezes a massa do bloco."
      ],
      "metadata": {
        "id": "_UB9_EUr3TnK"
      }
    },
    {
      "cell_type": "markdown",
      "source": [
        "No diagrama, podemos observar três elementos armazenadores de energia, logo podemos notar que o sistema será de ordem três. Os elementos armazenadores de energia são as molas $k_1$ e $k_2$ e a massa m. Portanto, escolhemos como nossas variáveis de estado as energias das molas dadas pela expressão F = k.x, onde k é a constante e x o deslocamento e para o bloco, por estar no nivel solo carrega apenas energia cinética, energia esta expressa como $Ec = (\\frac{1}{2}).m.(v^2)$.\n",
        "\n",
        "Variáveis de estado:\n",
        "\n",
        "\\begin{equation}\n",
        "q_1 = x\\\\\n",
        "q_2 = \\dot{x}\\\\\n",
        "q_3 = z\\\\\n",
        "\\end{equation}"
      ],
      "metadata": {
        "id": "OcaDKran4HYY"
      }
    },
    {
      "cell_type": "markdown",
      "source": [
        "Aplicando as equações no sistema temos:\n",
        "F = m.a\n",
        "\n",
        "Analisando as forças em x, temos:\n",
        "\n",
        "fa(entrada) . - ($k_1$.(x - z) (Força da energia cinética menos a da mola) + $k_2$.x (Força da mola em $k_2$) = m (massa). $\\ddot{x}$ (onde $\\ddot{x}$ é a aceleração).\n",
        "\n",
        "\\begin{equation}\n",
        "f_a - k_1.(x - z)  + k_2x = m \\ddot{x}.\n",
        "\\end{equation}"
      ],
      "metadata": {
        "id": "a82dMYS_5RSI"
      }
    },
    {
      "cell_type": "markdown",
      "source": [
        "![Diagrama sem nome.drawio.png](data:image/png;base64,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)"
      ],
      "metadata": {
        "id": "4ozQhRhvipcr"
      }
    },
    {
      "cell_type": "markdown",
      "source": [],
      "metadata": {
        "id": "JIavAQZAfoPS"
      }
    },
    {
      "cell_type": "markdown",
      "source": [
        "Analisando as forças em z, temos:\n",
        "\n",
        "\\begin{equation}\n",
        "b.\\dot{z} + k_1(x - z) = 0\n",
        "\\end{equation}"
      ],
      "metadata": {
        "id": "EWywTbIyfRQq"
      }
    },
    {
      "cell_type": "markdown",
      "source": [
        "![Diagrama sem nome.drawio (1).png](data:image/png;base64,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)"
      ],
      "metadata": {
        "id": "Xoa-aUIdi7BK"
      }
    },
    {
      "cell_type": "markdown",
      "source": [
        "Agora, tomando as derivadas das variáveis, temos:\n",
        "\n",
        "\\begin{equation}\n",
        "\\dot{q_1} = \\dot{x}\\\\\n",
        "\\dot{q_2} = \\ddot{x} = \\frac{di_L}{dt}(f_a-k_1x - k_2x + k_1z)\\\\ \n",
        "\\dot{q_3} = \\dot{z} = \\frac{k_1}{b}(x-z)\n",
        "\\end{equation}\n",
        "\n",
        "Subistituindo pelas variáveis, temos:\n",
        "\n",
        "\\begin{equation}\n",
        "\\dot{q_1} = q_2\\\\ \n",
        "\\dot{q_2} = \\frac{di_L}{dt}(f_a-k_1q_1 - k_2q_1 + k_1q_3)\\\\ \n",
        "\\dot{q_3} = \\frac{k_1}{b}(q_1-q_3)\n",
        "\\end{equation}"
      ],
      "metadata": {
        "id": "RIF7VMHfjKSw"
      }
    },
    {
      "cell_type": "markdown",
      "source": [
        "Das equações encontradas fazemos:\n",
        "\n",
        "\\begin{equation}\n",
        "   \\left\\{\\begin{matrix}\n",
        "\\dot{q} = & Aq + Bu\\\\ \n",
        "y= &  Cq + Du\n",
        "\\end{matrix}\\right.\n",
        "\\end{equation}\n",
        "\n",
        "Portanto:\n",
        "\n",
        "\\begin{equation}\n",
        "\\dot{x} = \\begin{bmatrix}\n",
        " 0& 1 & 0\\\\ \n",
        "  -\\frac{k_1+k_2}{m} & 0 & \\frac{k_1}{m}\\\\\n",
        "    \\frac{k_1}{b} & 0 & -\\frac{k_1}{b}\n",
        "\\end{bmatrix}\n",
        "⋅ q + \\begin{bmatrix}\n",
        "  0\\\\ \n",
        "  \\frac{1}{m}\\\\\n",
        "  0 \n",
        "\\end{bmatrix}\n",
        "⋅ u\n",
        "\\end{equation}\n",
        "\n",
        "\\begin{equation}\n",
        "y = \\begin{bmatrix} \n",
        "  0 & 0 & 1 \n",
        "\\end{bmatrix}\n",
        "⋅ q + \\begin{bmatrix} \n",
        "  0 \n",
        "\\end{bmatrix}\n",
        "⋅ u\n",
        "\\end{equation}"
      ],
      "metadata": {
        "id": "Br7rgRAfqSYR"
      }
    },
    {
      "cell_type": "code",
      "execution_count": null,
      "metadata": {
        "id": "LgPYmHBw271k"
      },
      "outputs": [],
      "source": [
        "!pip install control"
      ]
    },
    {
      "cell_type": "markdown",
      "source": [
        "# Inicializando as bibliotecas\n",
        "\n"
      ],
      "metadata": {
        "id": "DSSlwC-A4hNM"
      }
    },
    {
      "cell_type": "code",
      "source": [
        "import control\n",
        "from control import matlab\n",
        "from control.matlab import *\n",
        "import matplotlib.pyplot as plt\n",
        "import numpy as np\n",
        "from scipy import signal\n",
        "from scipy.signal import ss2tf, bessel, lsim, lti\n",
        "from numpy.linalg import matrix_power\n",
        "from numpy.linalg import matrix_rank"
      ],
      "metadata": {
        "id": "AOSxrMSo35EM"
      },
      "execution_count": null,
      "outputs": []
    },
    {
      "cell_type": "markdown",
      "source": [
        "# Declarando a matriz A, B, C e D"
      ],
      "metadata": {
        "id": "UUbJFTfp4r77"
      }
    },
    {
      "cell_type": "markdown",
      "source": [
        "Considerando os valores de k1 = k2 = 1 N/m, b = Ns/m e massa = 1 kg, temos:"
      ],
      "metadata": {
        "id": "6LwtQZMMsLPQ"
      }
    },
    {
      "cell_type": "code",
      "source": [
        "A = [[0, 1, 0], [-2, 0, 1], [1, 0, -1]]\n",
        "B = [[0], [1], [0]] \n",
        "C = [0, 0, 1]\n",
        "D = 0"
      ],
      "metadata": {
        "id": "LqpkYmJD4rZR"
      },
      "execution_count": null,
      "outputs": []
    },
    {
      "cell_type": "markdown",
      "source": [
        "# Calculando a função de transferência\n",
        "Usando a função ss2ft(), podemos calcular a função de transferência, essa função necessita de quatro argumentos as matrizes A, B, C e D. \n",
        "Passando D como 0."
      ],
      "metadata": {
        "id": "d-3_b9Cv5GzA"
      }
    },
    {
      "cell_type": "code",
      "source": [
        "haux = ss2tf(A, B, C, D)\n",
        "h = control.ss2tf(control.ss(A, B, C, [[0]]))\n",
        "print(h)"
      ],
      "metadata": {
        "id": "H5P3TPGE5l7K",
        "colab": {
          "base_uri": "https://localhost:8080/"
        },
        "outputId": "72b06d7e-dc3f-4b06-869a-6fcb912123e2"
      },
      "execution_count": null,
      "outputs": [
        {
          "output_type": "stream",
          "name": "stdout",
          "text": [
            "\n",
            "-2.22e-16 s^2 - 1.776e-15 s + 1\n",
            "-------------------------------\n",
            "      s^3 + s^2 + 2 s + 1\n",
            "\n"
          ]
        }
      ]
    },
    {
      "cell_type": "markdown",
      "source": [
        "# Determinando o tipo do sistema\n",
        "Usamos a variavel haux para receber a função de transferência em forma de tupla, pegando o tamanho do denominador da função de tranferência, fazendo um ciclo de repetição, onde verificamos a quantidade de polos na origem. Verificando a quantidade de '0' seguidos da direita para a esquerda no denominador, que significa, a quantidade de polos na origem, desse modo identificando o tipo do sistema."
      ],
      "metadata": {
        "id": "cVNW760k6U0S"
      }
    },
    {
      "cell_type": "code",
      "source": [
        "n = len(haux[1])\n",
        "\n",
        "#Verificando o tipo da matriz\n",
        "\n",
        "count = 0\n",
        "i = n-1\n",
        "while i >= 0:\n",
        "    if haux[1][i] == 0:\n",
        "        count += 1\n",
        "    else:\n",
        "        break\n",
        "    i -= 1\n",
        "\n",
        "if count == 0:\n",
        "    print('Sistema do tipo 0')\n",
        "elif count == 1:\n",
        "    print('Sistema do tipo 1')\n",
        "else:\n",
        "    print('sistema do tipo 2')"
      ],
      "metadata": {
        "colab": {
          "base_uri": "https://localhost:8080/"
        },
        "id": "01B0biv36VdM",
        "outputId": "58cb7d36-87f3-424c-c001-eab9528520aa"
      },
      "execution_count": null,
      "outputs": [
        {
          "output_type": "stream",
          "name": "stdout",
          "text": [
            "Sistema do tipo 0\n"
          ]
        }
      ]
    },
    {
      "cell_type": "markdown",
      "source": [
        "# Plotando a resposta ao degrau\n",
        "Usando a função control.step_response(), aplicamos a resposta ao degrau na função na tupla t,y que é o tempo pela saída. Plotando a saída pelo tempo utilizando a matplot obtemos:"
      ],
      "metadata": {
        "id": "_qw2GF_q7nEo"
      }
    },
    {
      "cell_type": "code",
      "source": [
        "#Plots\n",
        "def Resposta(t, y, sinal,title, xlabel, ylabel):\n",
        "  plt.plot(t, sinal, 'b',)\n",
        "  plt.plot(t, y, 'k',)\n",
        "  plt.title(title)\n",
        "  plt.xlabel(xlabel)\n",
        "  plt.ylabel(ylabel)\n",
        "  plt.grid(0.5)\n",
        "  plt.show()\n",
        "  print()"
      ],
      "metadata": {
        "id": "_ECE8c3QyxFS"
      },
      "execution_count": null,
      "outputs": []
    },
    {
      "cell_type": "code",
      "source": [
        "tempo      = np.arange(0,60,0.01)          #Vetor de tempo   (60 segundos)\n",
        "u_degrau   = np.full(len(tempo),1)         #Sinal de entrada (Degrau unitário)\n",
        "system = matlab.StateSpace(A, B, C, D)\n",
        "y_d, t_d, x_d = matlab.lsim(system, u_degrau, tempo)   #Resposta do sistema so Degrau\n",
        "\n",
        "#Plot da resposta ao Degrau\n",
        "print('\\033[1m'+'RESPOSTA AO DEGRAU'+'\\033[0m:')\n",
        "Resposta(tempo, y_d, u_degrau, 'DEGRAU','Tempo','Amplitude')"
      ],
      "metadata": {
        "colab": {
          "base_uri": "https://localhost:8080/",
          "height": 330
        },
        "id": "enRbj8P-7n17",
        "outputId": "33fbea67-a745-4d02-f476-70e1e2faa065"
      },
      "execution_count": null,
      "outputs": [
        {
          "output_type": "stream",
          "name": "stdout",
          "text": [
            "\u001b[1mRESPOSTA AO DEGRAU\u001b[0m:\n"
          ]
        },
        {
          "output_type": "display_data",
          "data": {
            "text/plain": [
              "<Figure size 432x288 with 1 Axes>"
            ],
            "image/png": "[encoded data removed]"
          },
          "metadata": {
            "needs_background": "light"
          }
        },
        {
          "output_type": "stream",
          "name": "stdout",
          "text": [
            "\n"
          ]
        }
      ]
    },
    {
      "cell_type": "markdown",
      "source": [
        "# Plotando a resposta á rampa"
      ],
      "metadata": {
        "id": "CNm_xQeF0Smz"
      }
    },
    {
      "cell_type": "code",
      "source": [
        "u_rampa    = np.full(len(tempo),tempo)     #Sinal de entrada (Rampa)\n",
        "t_r, y_r = control.forced_response(h, T=tempo,U=tempo)   #Resposta do sistema à Rampa\n",
        "\n",
        "#Plot da resposta à Rampa\n",
        "print('\\033[1m'+'RESPOSTA À RAMPA'+'\\033[0m:')\n",
        "Resposta(tempo, y_r, u_rampa,'RAMPA','Tempo','Amplitude')"
      ],
      "metadata": {
        "colab": {
          "base_uri": "https://localhost:8080/",
          "height": 364
        },
        "id": "r8c3Af9ay59n",
        "outputId": "25744cc1-a569-4f7f-d07a-e63e85469d4e"
      },
      "execution_count": null,
      "outputs": [
        {
          "output_type": "stream",
          "name": "stderr",
          "text": [
            "/usr/local/lib/python3.7/dist-packages/scipy/signal/filter_design.py:1632: BadCoefficients: Badly conditioned filter coefficients (numerator): the results may be meaningless\n",
            "  \"results may be meaningless\", BadCoefficients)\n"
          ]
        },
        {
          "output_type": "stream",
          "name": "stdout",
          "text": [
            "\u001b[1mRESPOSTA À RAMPA\u001b[0m:\n"
          ]
        },
        {
          "output_type": "display_data",
          "data": {
            "text/plain": [
              "<Figure size 432x288 with 1 Axes>"
            ],
            "image/png": "[encoded data removed]"
          },
          "metadata": {
            "needs_background": "light"
          }
        },
        {
          "output_type": "stream",
          "name": "stdout",
          "text": [
            "\n"
          ]
        }
      ]
    },
    {
      "cell_type": "markdown",
      "source": [
        "# Plotando a resposta á parábola"
      ],
      "metadata": {
        "id": "XP831LaW8TuN"
      }
    },
    {
      "cell_type": "code",
      "source": [
        "u_parabola = np.full(len(tempo),tempo**2)  #Sinal de entrada (Parábola)\n",
        "t_p, y_p = control.forced_response(h, T=tempo,U=np.square(tempo))   #Resposta do sistema à Parábola\n",
        "\n",
        "#Plot da resposta à Parábola\n",
        "print('\\033[1m'+'RESPOSTA À PARÁBOLA'+'\\033[0m:')\n",
        "Resposta(t_p, y_p, u_parabola,'PARÁBOLA','Tempo','Amplitude')"
      ],
      "metadata": {
        "colab": {
          "base_uri": "https://localhost:8080/",
          "height": 364
        },
        "id": "kQC58m1P8gJt",
        "outputId": "6eca75fc-d69b-4e43-c443-10d26cf42cf5"
      },
      "execution_count": null,
      "outputs": [
        {
          "output_type": "stream",
          "name": "stderr",
          "text": [
            "/usr/local/lib/python3.7/dist-packages/scipy/signal/filter_design.py:1632: BadCoefficients: Badly conditioned filter coefficients (numerator): the results may be meaningless\n",
            "  \"results may be meaningless\", BadCoefficients)\n"
          ]
        },
        {
          "output_type": "stream",
          "name": "stdout",
          "text": [
            "\u001b[1mRESPOSTA À PARÁBOLA\u001b[0m:\n"
          ]
        },
        {
          "output_type": "display_data",
          "data": {
            "text/plain": [
              "<Figure size 432x288 with 1 Axes>"
            ],
            "image/png": "[encoded data removed]"
          },
          "metadata": {
            "needs_background": "light"
          }
        },
        {
          "output_type": "stream",
          "name": "stdout",
          "text": [
            "\n"
          ]
        }
      ]
    },
    {
      "cell_type": "markdown",
      "source": [],
      "metadata": {
        "id": "2JHT-BA3vP50"
      }
    },
    {
      "cell_type": "markdown",
      "source": [
        "# Determinando a controlabilidade\n",
        "Para encontrar a controlabilidade, criamos duas listas auxiliares, na primeira(AB = [ ]) adicionamos o produto(np.dot( )) da matriz A pela matriz B, e na segunda matriz (A2B = [ ]) adicionamos o produto da matriz A² pela matriz B, onde n é o expoente da matriz A. No final do loop concatenamos(np.concatenate( ) as três matrizes na matriz 'Crtl'. E no final pegamos o determinante usando a função np.linalg.det( ). Reproduzinho exatamente conforme a fórmula:\n",
        "\n",
        "$$\\zeta = \\begin{bmatrix}\n",
        "    B & AB & A^{2}B & \\dots  & A^{n-1}B \\\\\n",
        "\\end{bmatrix}$$ \n",
        "\n",
        "Onde se o posto for igual n o sistema é dito controlável. Outro método, é pelo determinante da matriz zeta."
      ],
      "metadata": {
        "id": "Blg6SfJd8iXc"
      }
    },
    {
      "cell_type": "code",
      "source": [
        "#Matriz de Controlabilidade do sistema\n",
        "CTR = ctrb(A,B)\n",
        "\n",
        "print('\\033[1m'+'MATRIZ DE CONTROLABILIDADE DO SISTEMA'+'\\033[0m:\\n')\n",
        "print(CTR)\n",
        "\n",
        "print('\\033[1m'+'POSTO DA MATRIZ DE CONTROLABILIDADE'+'\\033[0m:\\n')\n",
        "print(matrix_rank(CTR))"
      ],
      "metadata": {
        "colab": {
          "base_uri": "https://localhost:8080/"
        },
        "id": "T2t2E_Y-8k-R",
        "outputId": "63dd1793-db3d-4833-cda5-89a6b712ed7f"
      },
      "execution_count": null,
      "outputs": [
        {
          "output_type": "stream",
          "name": "stdout",
          "text": [
            "\u001b[1mMATRIZ DE CONTROLABILIDADE DO SISTEMA\u001b[0m:\n",
            "\n",
            "[[ 0.  1.  0.]\n",
            " [ 1.  0. -2.]\n",
            " [ 0.  0.  1.]]\n",
            "\u001b[1mPOSTO DA MATRIZ DE CONTROLABILIDADE\u001b[0m:\n",
            "\n",
            "3\n"
          ]
        }
      ]
    },
    {
      "cell_type": "markdown",
      "source": [
        "Como vemos o rank do posto da matriz é igual a ordem, logo o sistema é controlável."
      ],
      "metadata": {
        "id": "23iGB-uQPh9N"
      }
    },
    {
      "cell_type": "markdown",
      "source": [
        "# Determinando a observabilidade\n",
        "Para encontrar a controlabilidade, criamos duas listas auxiliares, na primeira(AC = [ ]) adicionamos o produto(np.dot()) da matriz A pela matriz C, e na segunda matriz (A2C = [ ]) adicionamos o produto da matriz A² pela matriz C, onde n é o expoente da matriz A. No final do loop concatenamos(np.concatenate( ) as três matrizes na matriz 'Obs'. E no final pegamos o determinante usando a função np.linalg.det( ).\n",
        "Reproduzinho exatamente conforme a fórmula: \n",
        "\n",
        "$$O = \\begin{bmatrix}\n",
        "    C \\\\\n",
        "    CA \\\\\n",
        "    CA^{2} \\\\\n",
        "    \\dots \\\\\n",
        "    CA^{n-1}\n",
        "\\end{bmatrix}$$ \n",
        "\n",
        "Onde se o posto for igual n o sistema é dito observável. Outro método, é pelo determinante da matriz O."
      ],
      "metadata": {
        "id": "iNQpguXU9kFc"
      }
    },
    {
      "cell_type": "code",
      "source": [
        "#Matriz de Observabilidade do sistema\n",
        "OBS = obsv(A,C)\n",
        "\n",
        "print('\\033[1m'+'MATRIZ DE OBSERVABILIDADE DO SISTEMA'+'\\033[0m:\\n')\n",
        "print(OBS)\n",
        "\n",
        "print('\\033[1m'+'POSTO DA MATRIZ DE OBSERVABILIDADE'+'\\033[0m:\\n')\n",
        "print(matrix_rank(OBS))"
      ],
      "metadata": {
        "colab": {
          "base_uri": "https://localhost:8080/"
        },
        "id": "xbzEjsrh9lg4",
        "outputId": "4dd2185d-aef1-4e56-f422-0c074d1d3e98"
      },
      "execution_count": null,
      "outputs": [
        {
          "output_type": "stream",
          "name": "stdout",
          "text": [
            "\u001b[1mMATRIZ DE OBSERVABILIDADE DO SISTEMA\u001b[0m:\n",
            "\n",
            "[[ 0.  0.  1.]\n",
            " [ 1.  0. -1.]\n",
            " [-1.  1.  1.]]\n",
            "\u001b[1mPOSTO DA MATRIZ DE OBSERVABILIDADE\u001b[0m:\n",
            "\n",
            "3\n"
          ]
        }
      ]
    },
    {
      "cell_type": "markdown",
      "source": [
        "Como vemos o posto da matriz é 3 assim como a ordem dela, logo o sistema é Observável."
      ],
      "metadata": {
        "id": "ihDRoM-nPqkS"
      }
    },
    {
      "cell_type": "markdown",
      "source": [
        "# Critérios de desempenho\n",
        "Agora vendo os polos e os zeros podemos analisar as caracteristicas da função de transferência"
      ],
      "metadata": {
        "id": "5zh7u7YFP92x"
      }
    },
    {
      "cell_type": "code",
      "source": [
        "polo = h.pole()\n",
        "print('-----------------------------------------------------------------------------------------')\n",
        "print('Os polos são: {}'.format(polo))\n",
        "print('A função não possui zeros')\n",
        "print('-----------------------------------------------------------------------------------------')"
      ],
      "metadata": {
        "colab": {
          "base_uri": "https://localhost:8080/"
        },
        "id": "8joSWNnRP0Y-",
        "outputId": "1e3e913e-86e4-4beb-e386-11232262f0a4"
      },
      "execution_count": null,
      "outputs": [
        {
          "output_type": "stream",
          "name": "stdout",
          "text": [
            "-----------------------------------------------------------------------------------------\n",
            "Os polos são: [-0.21507985+1.30714128j -0.21507985-1.30714128j -0.56984029+0.j        ]\n",
            "A função não possui zeros\n",
            "-----------------------------------------------------------------------------------------\n"
          ]
        },
        {
          "output_type": "stream",
          "name": "stderr",
          "text": [
            "/usr/local/lib/python3.7/dist-packages/scipy/signal/filter_design.py:1632: BadCoefficients: Badly conditioned filter coefficients (numerator): the results may be meaningless\n",
            "  \"results may be meaningless\", BadCoefficients)\n"
          ]
        }
      ]
    },
    {
      "cell_type": "markdown",
      "source": [
        "Plotando o gráfico as raizes no lugar geométrico, podemos ver os valores vistos anteriormente na prática."
      ],
      "metadata": {
        "id": "WVU_GeWLQprr"
      }
    },
    {
      "cell_type": "code",
      "source": [
        "j = tf([1],[1,1,2,1])\n",
        "\n",
        "print(h)\n",
        "\n",
        "r = rlocus(j)\n",
        "plt.grid()\n",
        "plt.xlabel('t')\n",
        "plt.ylabel('y')\n",
        "plt.show()"
      ],
      "metadata": {
        "colab": {
          "base_uri": "https://localhost:8080/",
          "height": 382
        },
        "id": "xHY71xnJPpjr",
        "outputId": "c44cb8f2-db26-44f9-f7b4-54a2e18264e1"
      },
      "execution_count": null,
      "outputs": [
        {
          "output_type": "stream",
          "name": "stdout",
          "text": [
            "\n",
            "-2.22e-16 s^2 - 1.776e-15 s + 1\n",
            "-------------------------------\n",
            "      s^3 + s^2 + 2 s + 1\n",
            "\n"
          ]
        },
        {
          "output_type": "display_data",
          "data": {
            "text/plain": [
              "<Figure size 432x288 with 1 Axes>"
            ],
            "image/png": "[encoded data removed]"
          },
          "metadata": {
            "needs_background": "light"
          }
        }
      ]
    },
    {
      "cell_type": "markdown",
      "source": [
        "Disto, podemos ver que o sistema é subamortecido, pois podemos ver pelo gráfico da resposta ao degrau e por meio das raízes, que o sistema possui polos complexos conjugados. E estável, pois possui suas raízes no lado esquerdo do eixo Im.\n"
      ],
      "metadata": {
        "id": "TqkjMw4TSpZo"
      }
    },
    {
      "cell_type": "markdown",
      "source": [
        "Agora já por meio da função step_info(), podemos ver as informações a resposta ao degrau da função. Reescrevi a função, pois o python considera os valores muito pequenos na hora do calculo, dando valores absurdos de overshoot."
      ],
      "metadata": {
        "id": "wEVJdMaHJPxf"
      }
    },
    {
      "cell_type": "code",
      "source": [
        "num = [1]\n",
        "den = [ 1,  1, 2, 1]\n",
        "\n",
        "tF = control.tf(num,den)\n",
        "control.step_info(tF)"
      ],
      "metadata": {
        "colab": {
          "base_uri": "https://localhost:8080/"
        },
        "id": "UXF3f8yyTfwk",
        "outputId": "fff24408-b66f-43a5-b6e8-e4d579e1ee18"
      },
      "execution_count": null,
      "outputs": [
        {
          "output_type": "execute_result",
          "data": {
            "text/plain": [
              "{'RiseTime': 1.8892450283884656,\n",
              " 'SettlingTime': 13.602564204396954,\n",
              " 'SettlingMin': 0.8435045700229874,\n",
              " 'SettlingMax': 1.0726541441151771,\n",
              " 'Overshoot': 7.265414411517712,\n",
              " 'Undershoot': 0,\n",
              " 'Peak': 1.0726541441151771,\n",
              " 'PeakTime': 3.5895655539380846,\n",
              " 'SteadyStateValue': 1.0}"
            ]
          },
          "metadata": {},
          "execution_count": 34
        }
      ]
    },
    {
      "cell_type": "markdown",
      "source": [
        "# Tempo de pico\n",
        "O tempo de pico é o instante onde ocorre o primeiro pico de y(t).\n",
        "\n",
        "Pelo método control.step, obtemos aproximadamente 3.6s, como tempo de pico. \n",
        "\n",
        "E a resposta no tempo de pico obtida é de aproximadamente 1.1s.\n",
        "\n",
        "# Overshoot\n",
        "\n",
        "O valor de sobressinal (Overshoot) é dado por meio da fórmula:\n",
        "\n",
        "$$M_p = \\frac{y(t_p) - yss}{yss} $$\n",
        "\n",
        "Onde: $$yss = \\lim_{t\\rightarrow \\infty} y(t)$$ Onde obtivemos o valor de 1.07.\n",
        "\n",
        "# Tempo de subida\n",
        "\n",
        "Observando a resposta ao degrau e por meio da função control_info(), podemos ver que o tempo de subida é 1s.\n",
        "\n",
        "# Tempo de acomodação\n",
        "\n",
        "O tempo de acomodação é o tempo em que y(t) leva para atingir $\\pm 2\\%$ ou $\\pm 5\\%$ de seu valor final. Obtivemos que é de aproximadamente:$$t_s \\rightarrow 13.6s$$"
      ],
      "metadata": {
        "id": "v9unovgwfkM6"
      }
    }
  ]
}
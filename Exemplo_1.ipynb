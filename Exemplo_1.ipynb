{
  "nbformat": 4,
  "nbformat_minor": 0,
  "metadata": {
    "colab": {
      "provenance": []
    },
    "kernelspec": {
      "name": "python3",
      "display_name": "Python 3"
    },
    "language_info": {
      "name": "python"
    }
  },
  "cells": [
    {
      "cell_type": "markdown",
      "source": [
        "<center><strong><h1>Universidade Federal de Alagoas</h1></strong></center>\n",
        "<center><strong><h1>IC - Instituto de Computação</h1></strong></center>\n",
        "<center><strong><h2>Sistemas de Controle II - 2022.1</h2></strong></center>\n",
        "\n",
        "---\n",
        "\n",
        "**Professor**: Ícaro Araújo\n",
        "\n",
        "---\n",
        "\n",
        "<center><strong><h2>Exemplo didático I</h2></strong></center>"
      ],
      "metadata": {
        "id": "19hOOJJkxem3"
      }
    },
    {
      "cell_type": "markdown",
      "source": [
        "### Descrição do sistema\n",
        "\n",
        "O sistema a ser estudado é o circuito $RLC$ apresentado abaixo:"
      ],
      "metadata": {
        "id": "Fq8DC8SxyJmh"
      }
    },
    {
      "cell_type": "markdown",
      "source": [
        "![dfdfdfdfdf.png](data:image/png;base64,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)"
      ],
      "metadata": {
        "id": "mwMe1KYFvrwQ"
      }
    },
    {
      "cell_type": "markdown",
      "source": [
        "Serão assumidas as seguintes constantes para o circuito:\n",
        "\n",
        "\\begin{equation}\n",
        "R = 1Ω\n",
        "\\end{equation}\n",
        "\n",
        "\\begin{equation}\n",
        "L = 1H\n",
        "\\end{equation}\n",
        "\n",
        "\\begin{equation}\n",
        "C = 1F\n",
        "\\end{equation}\n",
        "\n",
        "De forma que a entrada do sistema $v_i$ é a tensão fornecida pela fonte e a saída observada é o valor $v_c$ presente em $C$."
      ],
      "metadata": {
        "id": "UYAf43NiynRR"
      }
    },
    {
      "cell_type": "markdown",
      "source": [
        "### Modelagem do Sistema:"
      ],
      "metadata": {
        "id": "ZjJ_jIvsztzo"
      }
    },
    {
      "cell_type": "markdown",
      "source": [
        "Se tratando de um sistema elétrico, podemos partir dos elementos armazenadores de energia para montar a matriz de estados $x$. Usaremos a corrente presente em $L$ e a tensão presente em $C$. Lembrando que:\n",
        "\n",
        "\\begin{equation}\n",
        "\\frac{di_L}{dt} = \\frac{1}{L} \\cdot v_L ;\n",
        "\\frac{dv_C}{dt} = \\frac{1}{C} \\cdot i_C\n",
        "\\end{equation}\n",
        "\n",
        "Logo:\n",
        "\n",
        "\\begin{equation}\n",
        "  x =\n",
        "  \\begin{bmatrix}\n",
        "    i_L \\\\\n",
        "    v_c\n",
        "  \\end{bmatrix}\n",
        "  →\n",
        "  \\dot{x} =\n",
        "  \\begin{bmatrix}\n",
        "    v_L \\\\\n",
        "    i_C\n",
        "  \\end{bmatrix}\n",
        "\\end{equation}\n",
        "\n",
        "Em seguida, precisamos escrever os elementos presentes em $\\dot{x}$ em função das variáveis de estados presentes em $x$. Para isso, faremos uso das Leis de Kirchhoff. Dessa forma temos as seguintes relações:\n",
        "\n",
        "\\begin{equation}\n",
        "  v_i = R\\cdot i_R + v_L + v_c\n",
        "\\end{equation}\n",
        "\n",
        "\\begin{equation}\n",
        "  v_c = \\frac{1}{C} \\int i_c(t) dt → \\frac{dv_c}{dt} ⋅ i_c\n",
        "\\end{equation}\n",
        "\n",
        "Sabendo que:\n",
        "\n",
        "\\begin{equation}\n",
        "  i_R = i_L = i_C\n",
        "\\end{equation}\n",
        "\n",
        "Temos por fim:\n",
        "\n",
        "\\begin{equation}\n",
        "   S = \\left\\{\\begin{matrix}\n",
        "\\dot{x_1}= & -1x_1 & -1x_2 & +1u\\\\ \n",
        "\\dot{x_2}= &  1x_1 & +0x_2 & +0u\n",
        "\\end{matrix}\\right.\n",
        "\\end{equation}\n",
        "\n",
        "Usando o que foi descrito acima, podemos escrever no formato:\n",
        "\n",
        "\\begin{equation}\n",
        "   \\left\\{\\begin{matrix}\n",
        "\\dot{x} = & Ax + Bu\\\\ \n",
        "y= &  Cx + Du\n",
        "\\end{matrix}\\right.\n",
        "\\end{equation}\n",
        "\n",
        "Portanto:\n",
        "\n",
        "\\begin{equation}\n",
        "\\dot{x} = \\begin{bmatrix}\n",
        " -1& -1\\\\ \n",
        "  1 & 0 \n",
        "\\end{bmatrix}\n",
        "⋅ x + \\begin{bmatrix}\n",
        "  1\\\\ \n",
        "  0 \n",
        "\\end{bmatrix}\n",
        "⋅ u\n",
        "\\end{equation}\n",
        "\n",
        "\\begin{equation}\n",
        "y = \\begin{bmatrix} \n",
        "  0 & 1 \n",
        "\\end{bmatrix}\n",
        "⋅ x + \\begin{bmatrix} \n",
        "  0 \n",
        "\\end{bmatrix}\n",
        "⋅ u\n",
        "\\end{equation}\n",
        "\n",
        "Uma vez que o sistema foi modelado e as matrizes $A$, $B$, $C$ e $D$ foram definidas podemos fazer uso do $Python$ para realizar a análize do mesmo.\n",
        "\n",
        "\n",
        "\n",
        "\n"
      ],
      "metadata": {
        "id": "QWZBjo5u0gd2"
      }
    },
    {
      "cell_type": "markdown",
      "source": [
        "### Imports das $\\textit{toolbox}$ necessárias "
      ],
      "metadata": {
        "id": "sKtRdRhxETFN"
      }
    },
    {
      "cell_type": "code",
      "source": [
        "pip install control"
      ],
      "metadata": {
        "id": "0aouduixEziS"
      },
      "execution_count": null,
      "outputs": []
    },
    {
      "cell_type": "code",
      "source": [
        "import control as ctr\n",
        "from control.matlab import *\n",
        "import matplotlib.pyplot as plt\n",
        "from numpy.linalg import matrix_rank\n",
        "from numpy.linalg import eigvals\n",
        "import numpy as np"
      ],
      "metadata": {
        "id": "fXrg9nGvEuGo"
      },
      "execution_count": null,
      "outputs": []
    },
    {
      "cell_type": "markdown",
      "source": [
        "### Definição das matrizes do sistema"
      ],
      "metadata": {
        "id": "5e4QJ7O4FNY5"
      }
    },
    {
      "cell_type": "code",
      "source": [
        "##Sistema em E.E. Modelado\n",
        "\n",
        "A = [[-1,-1],[1,0]]\n",
        "B = [[1],[0]]\n",
        "C = [0,1]\n",
        "D = [0]\n",
        "\n",
        "system = ss(A,B,C,D)\n",
        "print('\\033[1m'+'Matrizes do sistema:'+'\\033[0m\\n')\n",
        "print(system)"
      ],
      "metadata": {
        "colab": {
          "base_uri": "https://localhost:8080/"
        },
        "id": "2zEnI1DDFTJV",
        "outputId": "b148d93a-1551-462d-cd23-f7898f40690a"
      },
      "execution_count": null,
      "outputs": [
        {
          "output_type": "stream",
          "name": "stdout",
          "text": [
            "\u001b[1mMatrizes do sistema:\u001b[0m\n",
            "\n",
            "<LinearIOSystem>: sys[8]\n",
            "Inputs (1): ['u[0]']\n",
            "Outputs (1): ['y[0]']\n",
            "States (2): ['x[0]', 'x[1]']\n",
            "\n",
            "A = [[-1. -1.]\n",
            "     [ 1.  0.]]\n",
            "\n",
            "B = [[1.]\n",
            "     [0.]]\n",
            "\n",
            "C = [[0. 1.]]\n",
            "\n",
            "D = [[0.]]\n",
            "\n"
          ]
        }
      ]
    },
    {
      "cell_type": "markdown",
      "source": [
        "###Função de transferência equivalente"
      ],
      "metadata": {
        "id": "lAy8xcC7Fz7F"
      }
    },
    {
      "cell_type": "markdown",
      "source": [
        "Temos que a f.t. equivalente pode ser calculada manualmente utilizando o seguinte modelo:\n",
        "\n",
        "\\begin{equation}\n",
        "G(s) = C⋅(s⋅I-A)^{-1}⋅B + D\n",
        "\\end{equation}\n",
        "\n",
        "A função apresentada abaixo possui como resultado o cálculo de $G(s)$: "
      ],
      "metadata": {
        "id": "cBDjtqQfGcDh"
      }
    },
    {
      "cell_type": "code",
      "source": [
        "system_tf = ss2tf(A,B,C,D) #Função de transferencia partindo dos Espaços de Estados\n",
        "\n",
        "print('\\033[1m'+'FUNÇÃO DE TRANSFERENCIA DO SISTEMA:'+'\\033[0m:')\n",
        "print(system_tf)"
      ],
      "metadata": {
        "colab": {
          "base_uri": "https://localhost:8080/"
        },
        "id": "7hyLKyZPF9lT",
        "outputId": "48552747-b764-434d-d04d-0d138a05ddaf"
      },
      "execution_count": null,
      "outputs": [
        {
          "output_type": "stream",
          "name": "stdout",
          "text": [
            "\u001b[1mFUNÇÃO DE TRANSFERENCIA DO SISTEMA:\u001b[0m:\n",
            "\n",
            "     1\n",
            "-----------\n",
            "s^2 + s + 1\n",
            "\n"
          ]
        }
      ]
    },
    {
      "cell_type": "markdown",
      "source": [
        "### Simulação do modelo"
      ],
      "metadata": {
        "id": "c3CXlICLHGFK"
      }
    },
    {
      "cell_type": "markdown",
      "source": [
        "Abaixo são apresentadas as respostas do sistemas para três entradas características: Degrau unitário, Rampa e Parábola."
      ],
      "metadata": {
        "id": "Ad1vFEjOHX09"
      }
    },
    {
      "cell_type": "code",
      "source": [
        "tempo      = np.arange(0,60,0.01)          #Vetor de tempo   (60 segundos)\n",
        "u_degrau   = np.full(len(tempo),1)         #Sinal de entrada (Degrau unitário)\n",
        "u_rampa    = np.full(len(tempo),tempo)     #Sinal de entrada (Rampa)\n",
        "u_parabola = np.full(len(tempo),tempo**2)  #Sinal de entrada (Parábola)"
      ],
      "metadata": {
        "id": "B6YMNYsdHjRm"
      },
      "execution_count": null,
      "outputs": []
    },
    {
      "cell_type": "code",
      "source": [
        "y_d, t_d, x_d = lsim(system, u_degrau, tempo)   #Resposta do sistema so Degrau\n",
        "y_r, t_r, x_r = lsim(system, u_rampa, tempo)    #Resposta do sistema à Rampa\n",
        "y_p, t_p, x_p = lsim(system, u_parabola, tempo) #Resposta do sistema Parábola"
      ],
      "metadata": {
        "id": "4aAMLSZDILzU"
      },
      "execution_count": null,
      "outputs": []
    },
    {
      "cell_type": "code",
      "source": [
        "#Definição da função para plot das respostas\n",
        "def Resposta(t, y, sinal,title, xlabel, ylabel):\n",
        "  plt.plot(t, sinal, 'red',)\n",
        "  plt.plot(t, y, 'black',)\n",
        "  plt.title(title)\n",
        "  plt.xlabel(xlabel)\n",
        "  plt.ylabel(ylabel)\n",
        "  plt.grid(0.5)\n",
        "  plt.show()\n",
        "  print()\n",
        "\n",
        "#Plot da resposta ao Degrau\n",
        "print('\\033[1m'+'RESPOSTA AO DEGRAU'+'\\033[0m:')\n",
        "Resposta(tempo, y_d, u_degrau, 'DEGRAU','Tempo','Amplitude')\n",
        "\n",
        "#Plot da resposta à Rampa\n",
        "print('\\033[1m'+'RESPOSTA À RAMPA'+'\\033[0m:')\n",
        "Resposta(tempo, y_r, u_rampa,'RAMPA','Tempo','Amplitude')\n",
        "\n",
        "#Plot da resposta à Parábola\n",
        "print('\\033[1m'+'RESPOSTA À PARÁBOLA'+'\\033[0m:')\n",
        "Resposta(tempo, y_p, u_parabola,'PARÁBOLA','Tempo','Amplitude')"
      ],
      "metadata": {
        "colab": {
          "base_uri": "https://localhost:8080/",
          "height": 955
        },
        "id": "6rlz5LYTIZJs",
        "outputId": "443d704f-0e79-4a0a-805a-779febf47550"
      },
      "execution_count": null,
      "outputs": [
        {
          "output_type": "stream",
          "name": "stdout",
          "text": [
            "\u001b[1mRESPOSTA AO DEGRAU\u001b[0m:\n"
          ]
        },
        {
          "output_type": "display_data",
          "data": {
            "text/plain": [
              "<Figure size 432x288 with 1 Axes>"
            ],
            "image/png": "[encoded data removed]"
          },
          "metadata": {
            "needs_background": "light"
          }
        },
        {
          "output_type": "stream",
          "name": "stdout",
          "text": [
            "\n",
            "\u001b[1mRESPOSTA À RAMPA\u001b[0m:\n"
          ]
        },
        {
          "output_type": "display_data",
          "data": {
            "text/plain": [
              "<Figure size 432x288 with 1 Axes>"
            ],
            "image/png": "[encoded data removed]"
          },
          "metadata": {
            "needs_background": "light"
          }
        },
        {
          "output_type": "stream",
          "name": "stdout",
          "text": [
            "\n",
            "\u001b[1mRESPOSTA À PARÁBOLA\u001b[0m:\n"
          ]
        },
        {
          "output_type": "display_data",
          "data": {
            "text/plain": [
              "<Figure size 432x288 with 1 Axes>"
            ],
            "image/png": "[encoded data removed]"
          },
          "metadata": {
            "needs_background": "light"
          }
        },
        {
          "output_type": "stream",
          "name": "stdout",
          "text": [
            "\n"
          ]
        }
      ]
    },
    {
      "cell_type": "markdown",
      "source": [
        "Nos plots apresentados acima temos que o sinal de entrada é representado pela curva em vermelho e a resposta do sistema representado pela curva em preto."
      ],
      "metadata": {
        "id": "-C8ckQFjI0WT"
      }
    },
    {
      "cell_type": "markdown",
      "source": [
        "### Tipo do sistema"
      ],
      "metadata": {
        "id": "UuAMAsMBJP0R"
      }
    },
    {
      "cell_type": "markdown",
      "source": [
        "Podemos determinar o tipo do sistema partindo do seus polos, e ainda, seu tipo quanto sua estabilidade."
      ],
      "metadata": {
        "id": "jktENt4pJaIy"
      }
    },
    {
      "cell_type": "code",
      "source": [
        "autovalores = eigvals(A)                    #Os polos do sistema são os autovalores da matriz A\n",
        "print('\\033[1m'+'POLOS DO SISTEMA EM  MALHA ABERTA'+'\\033[0m:\\n')\n",
        "print(autovalores)                          #O número de polos na origem pode ser usado para determinar o tipo do sistema"
      ],
      "metadata": {
        "colab": {
          "base_uri": "https://localhost:8080/"
        },
        "id": "qyIr9Bh2JRDL",
        "outputId": "a334875a-3257-4ece-d3ca-65584e6dcaf8"
      },
      "execution_count": null,
      "outputs": [
        {
          "output_type": "stream",
          "name": "stdout",
          "text": [
            "\u001b[1mPOLOS DO SISTEMA EM  MALHA ABERTA\u001b[0m:\n",
            "\n",
            "[-0.5+0.8660254j -0.5-0.8660254j]\n"
          ]
        }
      ]
    },
    {
      "cell_type": "code",
      "source": [
        "plt.figure()\n",
        "pzmap(system)\n",
        "plt.show()"
      ],
      "metadata": {
        "colab": {
          "base_uri": "https://localhost:8080/",
          "height": 295
        },
        "id": "3yUKmIGwKp3I",
        "outputId": "5bb149aa-3196-45da-b605-5eebcb04eff5"
      },
      "execution_count": null,
      "outputs": [
        {
          "output_type": "display_data",
          "data": {
            "text/plain": [
              "<Figure size 432x288 with 1 Axes>"
            ],
            "image/png": "[encoded data removed]"
          },
          "metadata": {
            "needs_background": "light"
          }
        }
      ]
    },
    {
      "cell_type": "markdown",
      "source": [
        "Uma vez que possuímos como polos do sistema um conjugado complexo presente no semiplano esquerdo é imediato que o mesmo é estável e do tipo 0."
      ],
      "metadata": {
        "id": "JuiPXJbAKDMW"
      }
    },
    {
      "cell_type": "markdown",
      "source": [
        "### Critérios de desempenho"
      ],
      "metadata": {
        "id": "4gz0hg18LTlo"
      }
    },
    {
      "cell_type": "code",
      "source": [
        "print('\\033[1m'+'CRITÉRIOS DE DESEMPENHO DO SISTEMA'+'\\033[0m:\\n')\n",
        "ctr.step_info(system) #Critérios de desempenho do sistema"
      ],
      "metadata": {
        "colab": {
          "base_uri": "https://localhost:8080/"
        },
        "id": "7uAUpP5NLXy0",
        "outputId": "aef84b5f-4736-42d4-83d2-921dfce633e4"
      },
      "execution_count": null,
      "outputs": [
        {
          "output_type": "stream",
          "name": "stdout",
          "text": [
            "\u001b[1mCRITÉRIOS DE DESEMPENHO DO SISTEMA\u001b[0m:\n",
            "\n"
          ]
        },
        {
          "output_type": "execute_result",
          "data": {
            "text/plain": [
              "{'RiseTime': 1.6746073403593058,\n",
              " 'SettlingTime': 8.093935478403312,\n",
              " 'SettlingMin': 0.9394891622475177,\n",
              " 'SettlingMax': 1.1630334929041963,\n",
              " 'Overshoot': 16.303349290419632,\n",
              " 'Undershoot': 0,\n",
              " 'Peak': 1.1630334929041963,\n",
              " 'PeakTime': 3.628315904111829,\n",
              " 'SteadyStateValue': 1.0}"
            ]
          },
          "metadata": {},
          "execution_count": 29
        }
      ]
    },
    {
      "cell_type": "markdown",
      "source": [
        "Os valores apresentados acima representam os critérios de desempenho do sistema os quais também podem ser visualizados no plot $\\textbf{Resposta ao Degrau}$ presente no tópico $\\textbf{Simulação do modelo}$.\n",
        "\n",
        "###Tempo de pico($t_s$):\n",
        "O tempo de pico é definido como o instante onde ocorre o primeiro pico de $y(t)$. Para o nosso sistema temos que $t_p ≅ 3.63s$. Dessa forma, podemos calcular $y(t_p)$ que é o valor da resposta no tempo de pico e também o valor de regime do sistema, logo, temos que $y(t_p) ≅ 1.16$.\n",
        "\n",
        "###Sobressinal Máximo($M_p$):\n",
        "\n",
        "O valor de sobressinal ($\\textit{Overshoot}$) é dado por meio da fórmula:\n",
        "\n",
        "$$M_p = \\frac{y(t_p) - y_{ss}}{y_{ss}} $$\n",
        "\n",
        "Onde: $$y_{ss} = \\lim_{t\\rightarrow \\infty} y(t)$$ Onde obtivemos o valor de $16.303$.\n",
        "\n",
        "###Tempo de subida($t_r$):\n",
        "\n",
        "Observando a resposta ao degrau e a saída do método, podemos admitir que o tempo de subida é $1.674s$.\n",
        "\n",
        "###Tempo de acomodação($t_s$):\n",
        "\n",
        "O tempo de acomodação é o tempo em que $y(t)$ leva para atingir $\\pm 2\\%$ ou $\\pm 5\\%$ de seu valor final. Temos que para o nosso sistema $t_s ≅ 8.093s$."
      ],
      "metadata": {
        "id": "-azb73izLx31"
      }
    },
    {
      "cell_type": "markdown",
      "source": [
        "### Controlabilidade"
      ],
      "metadata": {
        "id": "pbT_JN4gMpGI"
      }
    },
    {
      "cell_type": "markdown",
      "source": [
        "A matriz de controlabilidade de um sistema qualquer é dada por:\n",
        "\n",
        "\\begin{equation}\n",
        "\\mathscr{C} = \\begin{bmatrix} B & AB & A^2B & ... & A^{n-1}B \\end{bmatrix}\n",
        "\\end{equation}\n",
        "\n",
        "Temos que um sistema de ordem $n$ definido em E.E. é dito completamente controlável se $\\mathscr{C}$ possui posto $n$(posto cheio). Dessa forma:"
      ],
      "metadata": {
        "id": "fWuNyEe9MtpS"
      }
    },
    {
      "cell_type": "code",
      "source": [
        "#Matriz de Controlabilidade do sistema\n",
        "CTR = ctrb(A,B)\n",
        "\n",
        "print('\\033[1m'+'MATRIZ DE CONTROLABILIDADE DO SISTEMA'+'\\033[0m:\\n')\n",
        "print(CTR)"
      ],
      "metadata": {
        "colab": {
          "base_uri": "https://localhost:8080/"
        },
        "id": "pWuGwW9uOIl2",
        "outputId": "8ae6c04a-5de7-4798-c70c-fe0e7dc84229"
      },
      "execution_count": null,
      "outputs": [
        {
          "output_type": "stream",
          "name": "stdout",
          "text": [
            "\u001b[1mMATRIZ DE CONTROLABILIDADE DO SISTEMA\u001b[0m:\n",
            "\n",
            "[[ 1. -1.]\n",
            " [ 0.  1.]]\n"
          ]
        }
      ]
    },
    {
      "cell_type": "markdown",
      "source": [
        "Teste de controlabilidade:"
      ],
      "metadata": {
        "id": "ejyNT1xZOarA"
      }
    },
    {
      "cell_type": "code",
      "source": [
        "print('\\033[1m'+'POSTO DA MATRIZ DE CONTROLABILIDADE'+'\\033[0m:\\n')\n",
        "print(matrix_rank(CTR))"
      ],
      "metadata": {
        "colab": {
          "base_uri": "https://localhost:8080/"
        },
        "id": "ef4BRlLoOcdy",
        "outputId": "a17cb51c-f531-4055-9514-fe3a4119146e"
      },
      "execution_count": null,
      "outputs": [
        {
          "output_type": "stream",
          "name": "stdout",
          "text": [
            "\u001b[1mPOSTO DA MATRIZ DE CONTROLABILIDADE\u001b[0m:\n",
            "\n",
            "2\n"
          ]
        }
      ]
    },
    {
      "cell_type": "markdown",
      "source": [
        "Portanto, uma vez que o sistema posssui ordem $n = 2$ e o método utilizado retornou $2$, podemos concluir que o sistema é $\\textit{completamente controlável}$."
      ],
      "metadata": {
        "id": "mJZe17_NOjHy"
      }
    },
    {
      "cell_type": "markdown",
      "source": [
        "### Observabilidade"
      ],
      "metadata": {
        "id": "Z414uRTlO-ua"
      }
    },
    {
      "cell_type": "markdown",
      "source": [
        "A matriz observabilidade de um sistema qualquer é dada por:\n",
        "\n",
        "\\begin{equation}\n",
        "\\mathcal{O} = \\begin{bmatrix} C & CA & CA^2 & ... & CA^{n-1} \\end{bmatrix}^{\\top}\n",
        "\\end{equation}\n",
        "\n",
        "Temos que um sistema de ordem $n$ definido em E.E. é dito completamente observável se $\\mathcal{O}$ possui posto $n$(posto cheio). Dessa forma:"
      ],
      "metadata": {
        "id": "PMBSNDRCPDtQ"
      }
    },
    {
      "cell_type": "code",
      "source": [
        "#Matriz de Observabilidade do sistema\n",
        "OBS = obsv(A,C)\n",
        "\n",
        "print('\\033[1m'+'MATRIZ DE OBSERVABILIDADE DO SISTEMA'+'\\033[0m:\\n')\n",
        "print(OBS)"
      ],
      "metadata": {
        "colab": {
          "base_uri": "https://localhost:8080/"
        },
        "id": "H60dAiRPP6JS",
        "outputId": "0588c6ef-af37-4021-a5ec-86d7a5234f41"
      },
      "execution_count": null,
      "outputs": [
        {
          "output_type": "stream",
          "name": "stdout",
          "text": [
            "\u001b[1mMATRIZ DE OBSERVABILIDADE DO SISTEMA\u001b[0m:\n",
            "\n",
            "[[0. 1.]\n",
            " [1. 0.]]\n"
          ]
        }
      ]
    },
    {
      "cell_type": "markdown",
      "source": [
        "Teste de observabilidade"
      ],
      "metadata": {
        "id": "o11ermclQGuR"
      }
    },
    {
      "cell_type": "code",
      "source": [
        "print('\\033[1m'+'POSTO DA MATRIZ DE OBSERVABILIDADE'+'\\033[0m:\\n')\n",
        "print(matrix_rank(OBS))"
      ],
      "metadata": {
        "colab": {
          "base_uri": "https://localhost:8080/"
        },
        "id": "Zd5DTrfrQIb0",
        "outputId": "a7640f2e-ddaf-42bc-875e-2c9faa57d4d0"
      },
      "execution_count": null,
      "outputs": [
        {
          "output_type": "stream",
          "name": "stdout",
          "text": [
            "\u001b[1mPOSTO DA MATRIZ DE OBSERVABILIDADE\u001b[0m:\n",
            "\n",
            "2\n"
          ]
        }
      ]
    },
    {
      "cell_type": "markdown",
      "source": [
        "Portanto, uma vez que o sistema posssui ordem $n = 2$ e o método utilizado retornou $2$, podemos concluir que o sistema é $\\textit{completamente observável}$."
      ],
      "metadata": {
        "id": "0wTPVvvyQTE4"
      }
    }
  ]
}
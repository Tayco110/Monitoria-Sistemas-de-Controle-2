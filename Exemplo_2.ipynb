{
  "nbformat": 4,
  "nbformat_minor": 0,
  "metadata": {
    "colab": {
      "provenance": []
    },
    "kernelspec": {
      "name": "python3",
      "display_name": "Python 3"
    },
    "language_info": {
      "name": "python"
    }
  },
  "cells": [
    {
      "cell_type": "markdown",
      "source": [
        "<center><strong><h1>Universidade Federal de Alagoas</h1></strong></center>\n",
        "<center><strong><h1>IC - Instituto de Computação</h1></strong></center>\n",
        "<center><strong><h2>Sistemas de Controle II - 2022.1</h2></strong></center>\n",
        "\n",
        "---\n",
        "\n",
        "**Professor**: Ícaro Araújo\n",
        "\n",
        "---\n",
        "\n",
        "<center><strong><h2>Exemplo didático II</h2></strong></center>"
      ],
      "metadata": {
        "id": "19hOOJJkxem3"
      }
    },
    {
      "cell_type": "markdown",
      "source": [
        "### Descrição do sistema\n",
        "\n",
        "O sistema a ser estudado é o circuito apresentado abaixo:"
      ],
      "metadata": {
        "id": "Fq8DC8SxyJmh"
      }
    },
    {
      "cell_type": "markdown",
      "source": [
        "![diagrama 2.png](data:image/png;base64,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)"
      ],
      "metadata": {
        "id": "TIsuBsrCUQA4"
      }
    },
    {
      "cell_type": "markdown",
      "source": [
        "Serão assumidas as seguintes constantes para o circuito:\n",
        "\n",
        "\\begin{equation}\n",
        "R = 1Ω\n",
        "\\end{equation}\n",
        "\n",
        "\\begin{equation}\n",
        "L_1 = 1H\n",
        "\\end{equation}\n",
        "\n",
        "\\begin{equation}\n",
        "L_1 = 1H\n",
        "\\end{equation}\n",
        "\n",
        "\\begin{equation}\n",
        "C = 1F\n",
        "\\end{equation}\n",
        "\n",
        "De forma que a entrada do sistema $v_e$ é a tensão fornecida pela fonte e a saída observada é o valor $v_c$ presente em $C$."
      ],
      "metadata": {
        "id": "UYAf43NiynRR"
      }
    },
    {
      "cell_type": "markdown",
      "source": [
        "### Modelagem do Sistema:"
      ],
      "metadata": {
        "id": "ZjJ_jIvsztzo"
      }
    },
    {
      "cell_type": "markdown",
      "source": [
        "Se tratando de um sistema elétrico, podemos partir dos elementos armazenadores de energia para montar a matriz de estados $x$. Usaremos as correntes presentes nos indutores $L_1$ e $L_2$ e a tensão presente em $C$. Lembrando que:\n",
        "\n",
        "\\begin{equation}\n",
        "\\frac{di_L}{dt} = \\frac{1}{L} \\cdot v_L ;\n",
        "\\frac{dv_C}{dt} = \\frac{1}{C} \\cdot i_C\n",
        "\\end{equation}\n",
        "\n",
        "Logo:\n",
        "\n",
        "\\begin{equation}\n",
        "  x =\n",
        "  \\begin{bmatrix}\n",
        "    i_{L_1} \\\\\n",
        "    i_{L_2}\\\\\n",
        "    v_c\n",
        "  \\end{bmatrix}\n",
        "  →\n",
        "  \\dot{x} =\n",
        "  \\begin{bmatrix}\n",
        "    v_{L_1} \\\\\n",
        "    v_{L_2}  \\\\\n",
        "    i_C\n",
        "  \\end{bmatrix}\n",
        "\\end{equation}\n",
        "\n",
        "Em seguida, precisamos escrever os elementos presentes em $\\dot{x}$ em função das variáveis de estados presentes em $x$. Para isso, faremos uso das Leis de Kirchhoff aplicadas nas duas malhas apresentadas anteriormente. Dessa forma temos as seguintes relações:\n",
        "\n",
        "\\begin{equation}\n",
        "  v_e = v_{L_1} + v_c\n",
        "\\end{equation}\n",
        "\n",
        "\\begin{equation}\n",
        "  v_c = v_{L_2} + R ⋅ i_{R}\n",
        "\\end{equation}\n",
        "\n",
        "\\begin{equation}\n",
        "  i_{L_1} = i_{L_2} + i_{c}\n",
        "\\end{equation}\n",
        "\n",
        "Sabendo que $i_{L_2} = i_{R}$ e reorganizando os termos das equações, temos o seguinte:\n",
        "\n",
        "\\begin{equation}\n",
        "  v_{L_1} = - v_c +v_e \n",
        "\\end{equation}\n",
        "  \n",
        "\\begin{equation}\n",
        "  v_{L_2} = v_c - i_{L_2}\n",
        "\\end{equation}\n",
        "\n",
        "\\begin{equation}\n",
        "  i_{c} = i_{L_1} - i_{L_2}\n",
        "\\end{equation}\n",
        "\n",
        "Temos por fim:\n",
        "\n",
        "\\begin{equation}\n",
        "   S = \\left\\{\\begin{matrix}\n",
        "\\dot{x_1}= & 0x_1 & +0x_2 & -1x_3 &+1u\\\\ \n",
        "\\dot{x_2}= & 0x_1 & -1x_2 & +1x_3 &+0u\\\\\n",
        "\\dot{x_3}= & 1x_1 & -1x_2 & +0x_3 &+0u\n",
        "\\end{matrix}\\right.\n",
        "\\end{equation}\n",
        "\n",
        "Usando o que foi descrito acima, podemos escrever no formato:\n",
        "\n",
        "\\begin{equation}\n",
        "   \\left\\{\\begin{matrix}\n",
        "\\dot{x} = & Ax + Bu\\\\ \n",
        "y= &  Cx + Du\n",
        "\\end{matrix}\\right.\n",
        "\\end{equation}\n",
        "\n",
        "Portanto:\n",
        "\n",
        "\\begin{equation}\n",
        "\\dot{x} = \\begin{bmatrix}\n",
        " 0& 0& -1\\\\ \n",
        " 0& -1& 1\\\\\n",
        " 1& -1& 0\n",
        "\\end{bmatrix}\n",
        "⋅ x + \\begin{bmatrix}\n",
        "  1\\\\ \n",
        "  0\\\\\n",
        "  0\n",
        "\\end{bmatrix}\n",
        "⋅ u\n",
        "\\end{equation}\n",
        "\n",
        "\\begin{equation}\n",
        "y = \\begin{bmatrix} \n",
        "  0 & 0 & 1\n",
        "\\end{bmatrix}\n",
        "⋅ x + \\begin{bmatrix} \n",
        "  0 \n",
        "\\end{bmatrix}\n",
        "⋅ u\n",
        "\\end{equation}\n",
        "\n",
        "Uma vez que o sistema foi modelado e as matrizes $A$, $B$, $C$ e $D$ foram definidas podemos fazer uso do $Python$ para realizar a análize do mesmo.\n",
        "\n",
        "\n",
        "\n",
        "\n"
      ],
      "metadata": {
        "id": "QWZBjo5u0gd2"
      }
    },
    {
      "cell_type": "markdown",
      "source": [
        "### Imports das $\\textit{toolbox}$ necessárias "
      ],
      "metadata": {
        "id": "sKtRdRhxETFN"
      }
    },
    {
      "cell_type": "code",
      "source": [
        "pip install control"
      ],
      "metadata": {
        "id": "0aouduixEziS"
      },
      "execution_count": null,
      "outputs": []
    },
    {
      "cell_type": "code",
      "source": [
        "import control as ctr\n",
        "from control.matlab import *\n",
        "import matplotlib.pyplot as plt\n",
        "from numpy.linalg import matrix_rank\n",
        "from numpy.linalg import eigvals\n",
        "import numpy as np"
      ],
      "metadata": {
        "id": "fXrg9nGvEuGo"
      },
      "execution_count": 2,
      "outputs": []
    },
    {
      "cell_type": "markdown",
      "source": [
        "### Definição das matrizes do sistema"
      ],
      "metadata": {
        "id": "5e4QJ7O4FNY5"
      }
    },
    {
      "cell_type": "code",
      "source": [
        "##Sistema em E.E. Modelado\n",
        "\n",
        "A = [[0,0,-1],[0,-1,1],[1,-1,0]]\n",
        "B = [[1],[0],[0]]\n",
        "C = [0,0,1]\n",
        "D = [0]\n",
        "\n",
        "system = ss(A,B,C,D)\n",
        "print('\\033[1m'+'Matrizes do sistema:'+'\\033[0m\\n')\n",
        "print(system)"
      ],
      "metadata": {
        "colab": {
          "base_uri": "https://localhost:8080/"
        },
        "id": "2zEnI1DDFTJV",
        "outputId": "e1248eb0-3dbe-47ec-b512-852b2fd4ed36"
      },
      "execution_count": 3,
      "outputs": [
        {
          "output_type": "stream",
          "name": "stdout",
          "text": [
            "\u001b[1mMatrizes do sistema:\u001b[0m\n",
            "\n",
            "<LinearIOSystem>: sys[2]\n",
            "Inputs (1): ['u[0]']\n",
            "Outputs (1): ['y[0]']\n",
            "States (3): ['x[0]', 'x[1]', 'x[2]']\n",
            "\n",
            "A = [[ 0.  0. -1.]\n",
            "     [ 0. -1.  1.]\n",
            "     [ 1. -1.  0.]]\n",
            "\n",
            "B = [[1.]\n",
            "     [0.]\n",
            "     [0.]]\n",
            "\n",
            "C = [[0. 0. 1.]]\n",
            "\n",
            "D = [[0.]]\n",
            "\n"
          ]
        }
      ]
    },
    {
      "cell_type": "markdown",
      "source": [
        "###Função de transferência equivalente"
      ],
      "metadata": {
        "id": "lAy8xcC7Fz7F"
      }
    },
    {
      "cell_type": "markdown",
      "source": [
        "Temos que a f.t. equivalente pode ser calculada manualmente utilizando o seguinte modelo:\n",
        "\n",
        "\\begin{equation}\n",
        "G(s) = C⋅(s⋅I-A)^{-1}⋅B + D\n",
        "\\end{equation}\n",
        "\n",
        "A função apresentada abaixo possui como resultado o cálculo de $G(s)$: "
      ],
      "metadata": {
        "id": "cBDjtqQfGcDh"
      }
    },
    {
      "cell_type": "code",
      "source": [
        "system_tf = ss2tf(A,B,C,D) #Função de transferencia partindo dos Espaços de Estados\n",
        "\n",
        "print('\\033[1m'+'FUNÇÃO DE TRANSFERENCIA DO SISTEMA:'+'\\033[0m:')\n",
        "print(system_tf)"
      ],
      "metadata": {
        "colab": {
          "base_uri": "https://localhost:8080/"
        },
        "id": "7hyLKyZPF9lT",
        "outputId": "038d2dc3-b47e-4027-e52a-6ff68ee55593"
      },
      "execution_count": 4,
      "outputs": [
        {
          "output_type": "stream",
          "name": "stdout",
          "text": [
            "\u001b[1mFUNÇÃO DE TRANSFERENCIA DO SISTEMA:\u001b[0m:\n",
            "\n",
            "-5.551e-16 s^2 + s + 1\n",
            "----------------------\n",
            " s^3 + s^2 + 2 s + 1\n",
            "\n"
          ]
        }
      ]
    },
    {
      "cell_type": "markdown",
      "source": [
        "Podemos considerar o coeficiente de $s^{2}$ igual a $0$ uma vez que o mesmo está sendo multiplicado por $10^{-16}$. Dessa forma, assumimos que o sistema possui apenas um Zero."
      ],
      "metadata": {
        "id": "7oEe4ikEbfKP"
      }
    },
    {
      "cell_type": "markdown",
      "source": [
        "### Simulação do modelo"
      ],
      "metadata": {
        "id": "c3CXlICLHGFK"
      }
    },
    {
      "cell_type": "markdown",
      "source": [
        "Abaixo são apresentadas as respostas do sistemas para três entradas características: Degrau unitário, Rampa e Parábola."
      ],
      "metadata": {
        "id": "Ad1vFEjOHX09"
      }
    },
    {
      "cell_type": "code",
      "source": [
        "tempo      = np.arange(0,60,0.01)          #Vetor de tempo   (60 segundos)\n",
        "u_degrau   = np.full(len(tempo),1)         #Sinal de entrada (Degrau unitário)\n",
        "u_rampa    = np.full(len(tempo),tempo)     #Sinal de entrada (Rampa)\n",
        "u_parabola = np.full(len(tempo),tempo**2)  #Sinal de entrada (Parábola)"
      ],
      "metadata": {
        "id": "B6YMNYsdHjRm"
      },
      "execution_count": 5,
      "outputs": []
    },
    {
      "cell_type": "code",
      "source": [
        "y_d, t_d, x_d = lsim(system, u_degrau, tempo)   #Resposta do sistema so Degrau\n",
        "y_r, t_r, x_r = lsim(system, u_rampa, tempo)    #Resposta do sistema à Rarábola\n",
        "y_p, t_p, x_p = lsim(system, u_parabola, tempo) #Resposta do sistema Parábola"
      ],
      "metadata": {
        "id": "4aAMLSZDILzU"
      },
      "execution_count": 6,
      "outputs": []
    },
    {
      "cell_type": "code",
      "source": [
        "#Definição da função para plot das respostas\n",
        "def Resposta(t, y, sinal,title, xlabel, ylabel):\n",
        "  plt.plot(t, sinal, 'red',)\n",
        "  plt.plot(t, y, 'black',)\n",
        "  plt.title(title)\n",
        "  plt.xlabel(xlabel)\n",
        "  plt.ylabel(ylabel)\n",
        "  plt.grid(0.5)\n",
        "  plt.show()\n",
        "  print()\n",
        "\n",
        "#Plot da resposta ao Degrau\n",
        "print('\\033[1m'+'RESPOSTA AO DEGRAU'+'\\033[0m:')\n",
        "Resposta(tempo, y_d, u_degrau, 'DEGRAU','Tempo','Amplitude')\n",
        "\n",
        "#Plot da resposta à Rampa\n",
        "print('\\033[1m'+'RESPOSTA À RAMPA'+'\\033[0m:')\n",
        "Resposta(tempo, y_r, u_rampa,'RAMPA','Tempo','Amplitude')\n",
        "\n",
        "#Plot da resposta à Parábola\n",
        "print('\\033[1m'+'RESPOSTA À PARÁBOLA'+'\\033[0m:')\n",
        "Resposta(tempo, y_p, u_parabola,'PARÁBOLA','Tempo','Amplitude')"
      ],
      "metadata": {
        "colab": {
          "base_uri": "https://localhost:8080/",
          "height": 955
        },
        "id": "6rlz5LYTIZJs",
        "outputId": "00e4310c-a36c-418a-84c1-3435de557c1e"
      },
      "execution_count": 7,
      "outputs": [
        {
          "output_type": "stream",
          "name": "stdout",
          "text": [
            "\u001b[1mRESPOSTA AO DEGRAU\u001b[0m:\n"
          ]
        },
        {
          "output_type": "display_data",
          "data": {
            "text/plain": [
              "<Figure size 432x288 with 1 Axes>"
            ],
            "image/png": "[encoded data removed]"
          },
          "metadata": {
            "needs_background": "light"
          }
        },
        {
          "output_type": "stream",
          "name": "stdout",
          "text": [
            "\n",
            "\u001b[1mRESPOSTA À RAMPA\u001b[0m:\n"
          ]
        },
        {
          "output_type": "display_data",
          "data": {
            "text/plain": [
              "<Figure size 432x288 with 1 Axes>"
            ],
            "image/png": "[encoded data removed]"
          },
          "metadata": {
            "needs_background": "light"
          }
        },
        {
          "output_type": "stream",
          "name": "stdout",
          "text": [
            "\n",
            "\u001b[1mRESPOSTA À PARÁBOLA\u001b[0m:\n"
          ]
        },
        {
          "output_type": "display_data",
          "data": {
            "text/plain": [
              "<Figure size 432x288 with 1 Axes>"
            ],
            "image/png": "[encoded data removed]"
          },
          "metadata": {
            "needs_background": "light"
          }
        },
        {
          "output_type": "stream",
          "name": "stdout",
          "text": [
            "\n"
          ]
        }
      ]
    },
    {
      "cell_type": "markdown",
      "source": [
        "Nos plots apresentados acima temos que o sinal de entrada é representado pela curva em vermelho e a resposta do sistema representado pela curva em preto."
      ],
      "metadata": {
        "id": "-C8ckQFjI0WT"
      }
    },
    {
      "cell_type": "markdown",
      "source": [
        "### Tipo do sistema"
      ],
      "metadata": {
        "id": "UuAMAsMBJP0R"
      }
    },
    {
      "cell_type": "markdown",
      "source": [
        "Podemos determinar o tipo do sistema partindo do seus polos, e ainda, seu tipo quanto sua estabilidade."
      ],
      "metadata": {
        "id": "jktENt4pJaIy"
      }
    },
    {
      "cell_type": "code",
      "source": [
        "autovalores = eigvals(A)                    #Os polos do sistema são os autovalores da matriz A\n",
        "print('\\033[1m'+'POLOS DO SISTEMA EM  MALHA ABERTA'+'\\033[0m:\\n')\n",
        "print(autovalores)                          #O número de polos na origem pode ser usado para determinar o tipo do sistema"
      ],
      "metadata": {
        "colab": {
          "base_uri": "https://localhost:8080/"
        },
        "id": "qyIr9Bh2JRDL",
        "outputId": "83e0379b-7d97-488e-e632-9c5dcad6d7d1"
      },
      "execution_count": 8,
      "outputs": [
        {
          "output_type": "stream",
          "name": "stdout",
          "text": [
            "\u001b[1mPOLOS DO SISTEMA EM  MALHA ABERTA\u001b[0m:\n",
            "\n",
            "[-0.21507985+1.30714128j -0.21507985-1.30714128j -0.56984029+0.j        ]\n"
          ]
        }
      ]
    },
    {
      "cell_type": "code",
      "source": [
        "plt.figure()\n",
        "pzmap(system)\n",
        "plt.show()"
      ],
      "metadata": {
        "colab": {
          "base_uri": "https://localhost:8080/",
          "height": 295
        },
        "id": "3yUKmIGwKp3I",
        "outputId": "8700f977-3d4a-4071-9d0c-f5a3802b108e"
      },
      "execution_count": 9,
      "outputs": [
        {
          "output_type": "display_data",
          "data": {
            "text/plain": [
              "<Figure size 432x288 with 1 Axes>"
            ],
            "image/png": "[encoded data removed]"
          },
          "metadata": {
            "needs_background": "light"
          }
        }
      ]
    },
    {
      "cell_type": "markdown",
      "source": [
        "Uma vez que possuímos como polos do sistema três pontos presentes no semiplano esquerdo é imediato que o mesmo é estável e do tipo 0."
      ],
      "metadata": {
        "id": "JuiPXJbAKDMW"
      }
    },
    {
      "cell_type": "markdown",
      "source": [
        "### Critérios de desempenho"
      ],
      "metadata": {
        "id": "4gz0hg18LTlo"
      }
    },
    {
      "cell_type": "code",
      "source": [
        "print('\\033[1m'+'CRITÉRIOS DE DESEMPENHO DO SISTEMA'+'\\033[0m:\\n')\n",
        "ctr.step_info(system) #Critérios de desempenho do sistema"
      ],
      "metadata": {
        "colab": {
          "base_uri": "https://localhost:8080/"
        },
        "id": "7uAUpP5NLXy0",
        "outputId": "ed5dac45-ff1a-4c06-f0b3-a55ae4ae48ff"
      },
      "execution_count": 10,
      "outputs": [
        {
          "output_type": "stream",
          "name": "stdout",
          "text": [
            "\u001b[1mCRITÉRIOS DE DESEMPENHO DO SISTEMA\u001b[0m:\n",
            "\n"
          ]
        },
        {
          "output_type": "execute_result",
          "data": {
            "text/plain": [
              "{'RiseTime': 1.1335470170330804,\n",
              " 'SettlingTime': 15.302884729946587,\n",
              " 'SettlingMin': 0.7591090829563226,\n",
              " 'SettlingMax': 1.2741202424546938,\n",
              " 'Overshoot': 27.41202424546938,\n",
              " 'Undershoot': 0,\n",
              " 'Peak': 1.2741202424546938,\n",
              " 'PeakTime': 2.644943039743855,\n",
              " 'SteadyStateValue': 1.0}"
            ]
          },
          "metadata": {},
          "execution_count": 10
        }
      ]
    },
    {
      "cell_type": "markdown",
      "source": [
        "Os valores apresentados acima representam os critérios de desempenho do sistema os quais também podem ser visualizados no plot $\\textbf{Resposta ao Degrau}$ presente no tópico $\\textbf{Simulação do modelo}$."
      ],
      "metadata": {
        "id": "-azb73izLx31"
      }
    },
    {
      "cell_type": "markdown",
      "source": [
        "### Controlabilidade"
      ],
      "metadata": {
        "id": "pbT_JN4gMpGI"
      }
    },
    {
      "cell_type": "markdown",
      "source": [
        "A matriz de controlabilidade de um sistema qualquer é dada por:\n",
        "\n",
        "\\begin{equation}\n",
        "\\mathscr{C} = \\begin{bmatrix} B & AB & A^2B & ... & A^{n-1}B \\end{bmatrix}\n",
        "\\end{equation}\n",
        "\n",
        "Temos que um sistema de ordem $n$ definido em E.E. é dito completamente controlável se $\\mathscr{C}$ possui posto $n$(posto cheio). Dessa forma:"
      ],
      "metadata": {
        "id": "fWuNyEe9MtpS"
      }
    },
    {
      "cell_type": "code",
      "source": [
        "#Matriz de Controlabilidade do sistema\n",
        "CTR = ctrb(A,B)\n",
        "\n",
        "print('\\033[1m'+'MATRIZ DE CONTROLABILIDADE DO SISTEMA'+'\\033[0m:\\n')\n",
        "print(CTR)"
      ],
      "metadata": {
        "colab": {
          "base_uri": "https://localhost:8080/"
        },
        "id": "pWuGwW9uOIl2",
        "outputId": "970a2df9-73ee-4eac-fd10-a70ae108631e"
      },
      "execution_count": 11,
      "outputs": [
        {
          "output_type": "stream",
          "name": "stdout",
          "text": [
            "\u001b[1mMATRIZ DE CONTROLABILIDADE DO SISTEMA\u001b[0m:\n",
            "\n",
            "[[ 1.  0. -1.]\n",
            " [ 0.  0.  1.]\n",
            " [ 0.  1.  0.]]\n"
          ]
        }
      ]
    },
    {
      "cell_type": "markdown",
      "source": [
        "Teste de controlabilidade:"
      ],
      "metadata": {
        "id": "ejyNT1xZOarA"
      }
    },
    {
      "cell_type": "code",
      "source": [
        "print('\\033[1m'+'POSTO DA MATRIZ DE CONTROLABILIDADE'+'\\033[0m:\\n')\n",
        "print(matrix_rank(CTR))"
      ],
      "metadata": {
        "colab": {
          "base_uri": "https://localhost:8080/"
        },
        "id": "ef4BRlLoOcdy",
        "outputId": "5dccb168-b1e0-472b-edeb-05dc9a416853"
      },
      "execution_count": 12,
      "outputs": [
        {
          "output_type": "stream",
          "name": "stdout",
          "text": [
            "\u001b[1mPOSTO DA MATRIZ DE CONTROLABILIDADE\u001b[0m:\n",
            "\n",
            "3\n"
          ]
        }
      ]
    },
    {
      "cell_type": "markdown",
      "source": [
        "Portanto, uma vez que o sistema posssui ordem $n = 3$ e o método utilizado retornou $3$, podemos concluir que o sistema é $\\textit{completamente controlável}$."
      ],
      "metadata": {
        "id": "mJZe17_NOjHy"
      }
    },
    {
      "cell_type": "markdown",
      "source": [
        "### Observabilidade"
      ],
      "metadata": {
        "id": "Z414uRTlO-ua"
      }
    },
    {
      "cell_type": "markdown",
      "source": [
        "A matriz observabilidade de um sistema qualquer é dada por:\n",
        "\n",
        "\\begin{equation}\n",
        "\\mathcal{O} = \\begin{bmatrix} C & CA & CA^2 & ... & CA^{n-1} \\end{bmatrix}^{\\top}\n",
        "\\end{equation}\n",
        "\n",
        "Temos que um sistema de ordem $n$ definido em E.E. é dito completamente observável se $\\mathcal{O}$ possui posto $n$(posto cheio). Dessa forma:"
      ],
      "metadata": {
        "id": "PMBSNDRCPDtQ"
      }
    },
    {
      "cell_type": "code",
      "source": [
        "#Matriz de Observabilidade do sistema\n",
        "OBS = obsv(A,C)\n",
        "\n",
        "print('\\033[1m'+'MATRIZ DE OBSERVABILIDADE DO SISTEMA'+'\\033[0m:\\n')\n",
        "print(OBS)"
      ],
      "metadata": {
        "colab": {
          "base_uri": "https://localhost:8080/"
        },
        "id": "H60dAiRPP6JS",
        "outputId": "cf7bde63-bcae-4951-f215-156eaef7920f"
      },
      "execution_count": 13,
      "outputs": [
        {
          "output_type": "stream",
          "name": "stdout",
          "text": [
            "\u001b[1mMATRIZ DE OBSERVABILIDADE DO SISTEMA\u001b[0m:\n",
            "\n",
            "[[ 0.  0.  1.]\n",
            " [ 1. -1.  0.]\n",
            " [ 0.  1. -2.]]\n"
          ]
        }
      ]
    },
    {
      "cell_type": "markdown",
      "source": [
        "Teste de observabilidade"
      ],
      "metadata": {
        "id": "o11ermclQGuR"
      }
    },
    {
      "cell_type": "code",
      "source": [
        "print('\\033[1m'+'POSTO DA MATRIZ DE OBSERVABILIDADE'+'\\033[0m:\\n')\n",
        "print(matrix_rank(OBS))"
      ],
      "metadata": {
        "colab": {
          "base_uri": "https://localhost:8080/"
        },
        "id": "Zd5DTrfrQIb0",
        "outputId": "e5dbe70e-9463-48ef-f449-4efdf1f4ddb0"
      },
      "execution_count": 14,
      "outputs": [
        {
          "output_type": "stream",
          "name": "stdout",
          "text": [
            "\u001b[1mPOSTO DA MATRIZ DE OBSERVABILIDADE\u001b[0m:\n",
            "\n",
            "3\n"
          ]
        }
      ]
    },
    {
      "cell_type": "markdown",
      "source": [
        "Portanto, uma vez que o sistema posssui ordem $n = 3$ e o método utilizado retornou $3$, podemos concluir que o sistema é $\\textit{completamente observável}$."
      ],
      "metadata": {
        "id": "0wTPVvvyQTE4"
      }
    }
  ]
}